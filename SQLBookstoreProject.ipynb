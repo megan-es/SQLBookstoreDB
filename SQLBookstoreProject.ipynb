{
    "cells": [
        {
            "cell_type": "markdown",
            "metadata": {
                "azdata_cell_guid": "f91fde1c-a7a1-461b-bb0b-f2807893b725"
            },
            "source": [
                "Database and table setup"
            ]
        },
        {
            "cell_type": "code",
            "execution_count": 18,
            "metadata": {
                "azdata_cell_guid": "2df04220-623e-4b7e-865d-40e5a8e197cc",
                "language": "sql",
                "tags": []
            },
            "outputs": [
                {
                    "ename": "",
                    "evalue": "Msg 1801, Level 16, State 3, Line 1\nDatabase 'BookstoreDB' already exists. Choose a different database name.",
                    "output_type": "error",
                    "traceback": []
                },
                {
                    "data": {
                        "text/html": [
                            "Total execution time: 00:00:00.006"
                        ]
                    },
                    "metadata": {},
                    "output_type": "display_data"
                }
            ],
            "source": [
                "CREATE DATABASE BookstoreDB;\n",
                "\n",
                "USE BookstoreDB;"
            ]
        },
        {
            "cell_type": "code",
            "execution_count": 4,
            "metadata": {
                "azdata_cell_guid": "fdee58e3-f851-49ec-b3fa-136b2998c932",
                "language": "sql",
                "tags": []
            },
            "outputs": [
                {
                    "ename": "",
                    "evalue": "Msg 2714, Level 16, State 6, Line 1\nThere is already an object named 'Authors' in the database.",
                    "output_type": "error",
                    "traceback": []
                },
                {
                    "data": {
                        "text/html": [
                            "Total execution time: 00:00:00.029"
                        ]
                    },
                    "metadata": {},
                    "output_type": "display_data"
                }
            ],
            "source": [
                "CREATE TABLE Authors (\n",
                "    AuthorID INT PRIMARY KEY IDENTITY(1,1),\n",
                "    FirstName NVARCHAR(100),\n",
                "    LastName NVARCHAR(100)\n",
                ");\n",
                "\n",
                "CREATE TABLE Books (\n",
                "    BookID INT PRIMARY KEY IDENTITY (1,1),\n",
                "    Title NVARCHAR(255),\n",
                "    AuthorID INT FOREIGN KEY REFERENCES Authors(AuthorID),\n",
                "    Price DECIMAL(10,2),\n",
                "    Stock INT\n",
                ");"
            ]
        },
        {
            "cell_type": "code",
            "execution_count": 7,
            "metadata": {
                "azdata_cell_guid": "4303a00f-99c9-4ac6-a35c-a8ae594a82c5",
                "language": "sql"
            },
            "outputs": [
                {
                    "data": {
                        "text/html": [
                            "(6 rows affected)"
                        ]
                    },
                    "metadata": {},
                    "output_type": "display_data"
                },
                {
                    "data": {
                        "text/html": [
                            "(9 rows affected)"
                        ]
                    },
                    "metadata": {},
                    "output_type": "display_data"
                },
                {
                    "data": {
                        "text/html": [
                            "Total execution time: 00:00:00.041"
                        ]
                    },
                    "metadata": {},
                    "output_type": "display_data"
                }
            ],
            "source": [
                "--Insert data \n",
                "INSERT INTO Authors (FirstName, LastName)\n",
                "VALUES ('J.K.', 'Rowling'), \n",
                "    ('George', 'Orwell'), \n",
                "    ('J.R.R.', 'Tolkien'),\n",
                "    ('Agatha', 'Christie'),\n",
                "    ('Isaac', 'Asimov'),\n",
                "    ('Stephen', 'King');\n",
                "\n",
                "INSERT INTO Books (Title, AuthorID, Price, Stock)\n",
                "VALUES ('Harry Potter', 1, 20.99, 10),\n",
                "       ('1984', 2, 15.99, 5),\n",
                "       ('The Hobbit', 3, 12.99, 8),\n",
                "       ('Murder on the Orient Express', 4, 9.99, 7),\n",
                "       ('And Then There Were None', 4, 8.99, 10),\n",
                "       ('Foundation', 5, 11.99, 12),\n",
                "       ('I, Robot', 5, 10.99, 14),\n",
                "       ('The Shining', 6, 15.99, 6),\n",
                "       ('It', 6, 17.99, 5);"
            ]
        },
        {
            "cell_type": "code",
            "execution_count": 10,
            "metadata": {
                "azdata_cell_guid": "0b6fcc70-d9bd-4963-9e1a-520cefccba7b",
                "language": "sql",
                "tags": []
            },
            "outputs": [
                {
                    "data": {
                        "text/html": [
                            "(9 rows affected)"
                        ]
                    },
                    "metadata": {},
                    "output_type": "display_data"
                },
                {
                    "data": {
                        "text/html": [
                            "(1 row affected)"
                        ]
                    },
                    "metadata": {},
                    "output_type": "display_data"
                },
                {
                    "data": {
                        "text/html": [
                            "Total execution time: 00:00:00.048"
                        ]
                    },
                    "metadata": {},
                    "output_type": "display_data"
                },
                {
                    "data": {
                        "application/vnd.dataresource+json": {
                            "data": [
                                {
                                    "Initial": "J",
                                    "LastName": "Rowling",
                                    "Price": "20.99",
                                    "Title": "Harry Potter"
                                },
                                {
                                    "Initial": "G",
                                    "LastName": "Orwell",
                                    "Price": "15.99",
                                    "Title": "1984"
                                },
                                {
                                    "Initial": "J",
                                    "LastName": "Tolkien",
                                    "Price": "12.99",
                                    "Title": "The Hobbit"
                                },
                                {
                                    "Initial": "A",
                                    "LastName": "Christie",
                                    "Price": "9.99",
                                    "Title": "Murder on the Orient Express"
                                },
                                {
                                    "Initial": "A",
                                    "LastName": "Christie",
                                    "Price": "8.99",
                                    "Title": "And Then There Were None"
                                },
                                {
                                    "Initial": "I",
                                    "LastName": "Asimov",
                                    "Price": "11.99",
                                    "Title": "Foundation"
                                },
                                {
                                    "Initial": "I",
                                    "LastName": "Asimov",
                                    "Price": "10.99",
                                    "Title": "I, Robot"
                                },
                                {
                                    "Initial": "S",
                                    "LastName": "King",
                                    "Price": "15.99",
                                    "Title": "The Shining"
                                },
                                {
                                    "Initial": "S",
                                    "LastName": "King",
                                    "Price": "17.99",
                                    "Title": "It"
                                }
                            ],
                            "schema": {
                                "fields": [
                                    {
                                        "name": "Title"
                                    },
                                    {
                                        "name": "Initial"
                                    },
                                    {
                                        "name": "LastName"
                                    },
                                    {
                                        "name": "Price"
                                    }
                                ]
                            }
                        },
                        "text/html": [
                            "<table><tr><th>Title</th><th>Initial</th><th>LastName</th><th>Price</th></tr><tr><td>Harry Potter</td><td>J</td><td>Rowling</td><td>20.99</td></tr><tr><td>1984</td><td>G</td><td>Orwell</td><td>15.99</td></tr><tr><td>The Hobbit</td><td>J</td><td>Tolkien</td><td>12.99</td></tr><tr><td>Murder on the Orient Express</td><td>A</td><td>Christie</td><td>9.99</td></tr><tr><td>And Then There Were None</td><td>A</td><td>Christie</td><td>8.99</td></tr><tr><td>Foundation</td><td>I</td><td>Asimov</td><td>11.99</td></tr><tr><td>I, Robot</td><td>I</td><td>Asimov</td><td>10.99</td></tr><tr><td>The Shining</td><td>S</td><td>King</td><td>15.99</td></tr><tr><td>It</td><td>S</td><td>King</td><td>17.99</td></tr></table>"
                        ]
                    },
                    "execution_count": 10,
                    "metadata": {},
                    "output_type": "execute_result"
                }
            ],
            "source": [
                "-- List all books and their authors, first name abbreviated to initial\n",
                "SELECT \n",
                "    B.Title, \n",
                "    SUBSTRING(A.FirstName, 1, 1) AS Initial, \n",
                "    A.LastName, \n",
                "    B.Price\n",
                "FROM \n",
                "    Books B\n",
                "JOIN \n",
                "    Authors A ON B.AuthorID = A.AuthorID;  \n"
            ]
        },
        {
            "cell_type": "code",
            "execution_count": 13,
            "metadata": {
                "azdata_cell_guid": "a34a41d6-df14-407c-893a-ae0952a0bcb1",
                "language": "sql"
            },
            "outputs": [
                {
                    "data": {
                        "text/html": [
                            "(1 row affected)"
                        ]
                    },
                    "metadata": {},
                    "output_type": "display_data"
                },
                {
                    "data": {
                        "text/html": [
                            "Total execution time: 00:00:00.009"
                        ]
                    },
                    "metadata": {},
                    "output_type": "display_data"
                }
            ],
            "source": [
                "--Change a price\n",
                "UPDATE Books\n",
                "SET Price = 13.99 -- The new price\n",
                "WHERE Title = '1984';\n"
            ]
        },
        {
            "cell_type": "code",
            "execution_count": 17,
            "metadata": {
                "azdata_cell_guid": "7ee13c7e-179b-4ac8-961c-4b28ae194d71",
                "language": "sql"
            },
            "outputs": [
                {
                    "data": {
                        "text/html": [
                            "(6 rows affected)"
                        ]
                    },
                    "metadata": {},
                    "output_type": "display_data"
                },
                {
                    "data": {
                        "text/html": [
                            "Total execution time: 00:00:00.011"
                        ]
                    },
                    "metadata": {},
                    "output_type": "display_data"
                },
                {
                    "data": {
                        "application/vnd.dataresource+json": {
                            "data": [
                                {
                                    "Price": "13.99",
                                    "Section": "Bargain",
                                    "Title": "1984"
                                },
                                {
                                    "Price": "12.99",
                                    "Section": "Bargain",
                                    "Title": "The Hobbit"
                                },
                                {
                                    "Price": "9.99",
                                    "Section": "Bargain",
                                    "Title": "Murder on the Orient Express"
                                },
                                {
                                    "Price": "8.99",
                                    "Section": "Bargain",
                                    "Title": "And Then There Were None"
                                },
                                {
                                    "Price": "11.99",
                                    "Section": "Bargain",
                                    "Title": "Foundation"
                                },
                                {
                                    "Price": "10.99",
                                    "Section": "Bargain",
                                    "Title": "I, Robot"
                                }
                            ],
                            "schema": {
                                "fields": [
                                    {
                                        "name": "Title"
                                    },
                                    {
                                        "name": "Price"
                                    },
                                    {
                                        "name": "Section"
                                    }
                                ]
                            }
                        },
                        "text/html": [
                            "<table><tr><th>Title</th><th>Price</th><th>Section</th></tr><tr><td>1984</td><td>13.99</td><td>Bargain</td></tr><tr><td>The Hobbit</td><td>12.99</td><td>Bargain</td></tr><tr><td>Murder on the Orient Express</td><td>9.99</td><td>Bargain</td></tr><tr><td>And Then There Were None</td><td>8.99</td><td>Bargain</td></tr><tr><td>Foundation</td><td>11.99</td><td>Bargain</td></tr><tr><td>I, Robot</td><td>10.99</td><td>Bargain</td></tr></table>"
                        ]
                    },
                    "execution_count": 17,
                    "metadata": {},
                    "output_type": "execute_result"
                }
            ],
            "source": [
                "--Identify books priced under $15 to be put in 'Bargain' section\n",
                "SELECT \n",
                "    Title, \n",
                "    Price,\n",
                "    CASE \n",
                "        WHEN Price < 15.00 THEN 'Bargain'\n",
                "        ELSE 'Regular'\n",
                "    END AS Section\n",
                "FROM Books\n",
                "WHERE Price < 15.00"
            ]
        },
        {
            "cell_type": "code",
            "execution_count": null,
            "metadata": {
                "azdata_cell_guid": "f8b58d5c-37ba-4fa5-9ea0-635b48e6168f",
                "language": "sql",
                "tags": []
            },
            "outputs": [],
            "source": [
                "--Update stock to reflect sales\n",
                "UPDATE Books\n",
                "SET Stock = Stock - 1\n",
                "WHERE BookID = 1;"
            ]
        },
        {
            "cell_type": "code",
            "execution_count": 29,
            "metadata": {
                "azdata_cell_guid": "abb7e7ed-bec2-4d96-994f-459ab8d1be95",
                "language": "sql",
                "tags": []
            },
            "outputs": [
                {
                    "ename": "",
                    "evalue": "Msg 2714, Level 16, State 3, Procedure BookSold, Line 2\nThere is already an object named 'BookSold' in the database.",
                    "output_type": "error",
                    "traceback": []
                },
                {
                    "data": {
                        "text/html": [
                            "Total execution time: 00:00:00.017"
                        ]
                    },
                    "metadata": {},
                    "output_type": "display_data"
                }
            ],
            "source": [
                "--Stored procedure to decrease stock when book is sold\n",
                "CREATE PROCEDURE SellBook\n",
                "@BookID INT,\n",
                "AS\n",
                "BEGIN \n",
                "    UPDATE Books \n",
                "    SET Stock = Stock - 1\n",
                "    WHERE BookID = @BookID\n",
                "--For handling negative stock\n",
                "IF (SELECT Stock FROM Books WHERE BookID = @BookID) < 0\n",
                "    BEGIN\n",
                "        RAISERROR('Stock cannot be negative', 16, 1);\n",
                "    END\n",
                "END;\n",
                "GO"
            ]
        },
        {
            "cell_type": "code",
            "execution_count": 36,
            "metadata": {
                "azdata_cell_guid": "2ab9d376-b306-4d1f-a763-bce71189a052",
                "language": "sql"
            },
            "outputs": [
                {
                    "data": {
                        "text/html": [
                            "Commands completed successfully."
                        ]
                    },
                    "metadata": {},
                    "output_type": "display_data"
                },
                {
                    "data": {
                        "text/html": [
                            "Total execution time: 00:00:00.008"
                        ]
                    },
                    "metadata": {},
                    "output_type": "display_data"
                }
            ],
            "source": [
                "--Mistake made when creating SellBook procedure, modify to fix\n",
                "ALTER PROCEDURE SellBook\n",
                "    @BookID INT,\n",
                "    @QuantitySold INT\n",
                "AS\n",
                "BEGIN\n",
                "    UPDATE Books\n",
                "    SET Stock = Stock - @QuantitySold\n",
                "    WHERE BookID = @BookID;\n",
                "    \n",
                "    -- Optional: Check for negative stock and handle it.\n",
                "    IF (SELECT Stock FROM Books WHERE BookID = @BookID) < 0\n",
                "    BEGIN\n",
                "        RAISERROR('Stock cannot be negative', 16, 1);\n",
                "        -- Optionally, rollback any transaction if you have one\n",
                "    END\n",
                "END;\n",
                "GO"
            ]
        },
        {
            "cell_type": "code",
            "execution_count": 38,
            "metadata": {
                "azdata_cell_guid": "87427829-5a25-4039-87c4-ff926284bcd0",
                "language": "sql"
            },
            "outputs": [
                {
                    "data": {
                        "text/html": [
                            "(1 row affected)"
                        ]
                    },
                    "metadata": {},
                    "output_type": "display_data"
                },
                {
                    "data": {
                        "text/html": [
                            "(1 row affected)"
                        ]
                    },
                    "metadata": {},
                    "output_type": "display_data"
                },
                {
                    "data": {
                        "text/html": [
                            "(1 row affected)"
                        ]
                    },
                    "metadata": {},
                    "output_type": "display_data"
                },
                {
                    "data": {
                        "text/html": [
                            "Total execution time: 00:00:00.012"
                        ]
                    },
                    "metadata": {},
                    "output_type": "display_data"
                },
                {
                    "data": {
                        "application/vnd.dataresource+json": {
                            "data": [
                                {
                                    "BookID": "3",
                                    "Stock": "6",
                                    "Title": "The Hobbit"
                                }
                            ],
                            "schema": {
                                "fields": [
                                    {
                                        "name": "BookID"
                                    },
                                    {
                                        "name": "Title"
                                    },
                                    {
                                        "name": "Stock"
                                    }
                                ]
                            }
                        },
                        "text/html": [
                            "<table><tr><th>BookID</th><th>Title</th><th>Stock</th></tr><tr><td>3</td><td>The Hobbit</td><td>6</td></tr></table>"
                        ]
                    },
                    "execution_count": 38,
                    "metadata": {},
                    "output_type": "execute_result"
                },
                {
                    "data": {
                        "application/vnd.dataresource+json": {
                            "data": [
                                {
                                    "Stock": "4",
                                    "Title": "The Hobbit"
                                }
                            ],
                            "schema": {
                                "fields": [
                                    {
                                        "name": "Title"
                                    },
                                    {
                                        "name": "Stock"
                                    }
                                ]
                            }
                        },
                        "text/html": [
                            "<table><tr><th>Title</th><th>Stock</th></tr><tr><td>The Hobbit</td><td>4</td></tr></table>"
                        ]
                    },
                    "execution_count": 38,
                    "metadata": {},
                    "output_type": "execute_result"
                }
            ],
            "source": [
                "--Check inventory of Book with BookID = 3\n",
                "SELECT BookID, Title, Stock\n",
                "FROM Books\n",
                "WHERE BookID = 3\n",
                "\n",
                "-- Assume we sold 2 copies of the book with BookID = 3\n",
                "EXEC  @BookID = 3, @QuantitySold = 2;\n",
                "\n",
                "-- Fetch the updated stock for the book with BookID = 3\n",
                "SELECT Title, Stock \n",
                "FROM Books \n",
                "WHERE BookID = 3;\n"
            ]
        },
        {
            "cell_type": "code",
            "execution_count": 39,
            "metadata": {
                "azdata_cell_guid": "311d2952-a73e-4949-9a2b-8f150a248c0a",
                "language": "sql"
            },
            "outputs": [
                {
                    "data": {
                        "text/html": [
                            "(9 rows affected)"
                        ]
                    },
                    "metadata": {},
                    "output_type": "display_data"
                },
                {
                    "data": {
                        "text/html": [
                            "Total execution time: 00:00:00.036"
                        ]
                    },
                    "metadata": {},
                    "output_type": "display_data"
                },
                {
                    "data": {
                        "application/vnd.dataresource+json": {
                            "data": [
                                {
                                    "FirstName": "J.K.",
                                    "LastName": "Rowling",
                                    "Stock": "10",
                                    "Title": "Harry Potter"
                                },
                                {
                                    "FirstName": "George",
                                    "LastName": "Orwell",
                                    "Stock": "5",
                                    "Title": "1984"
                                },
                                {
                                    "FirstName": "J.R.R.",
                                    "LastName": "Tolkien",
                                    "Stock": "4",
                                    "Title": "The Hobbit"
                                },
                                {
                                    "FirstName": "Agatha",
                                    "LastName": "Christie",
                                    "Stock": "7",
                                    "Title": "Murder on the Orient Express"
                                },
                                {
                                    "FirstName": "Agatha",
                                    "LastName": "Christie",
                                    "Stock": "10",
                                    "Title": "And Then There Were None"
                                },
                                {
                                    "FirstName": "Isaac",
                                    "LastName": "Asimov",
                                    "Stock": "12",
                                    "Title": "Foundation"
                                },
                                {
                                    "FirstName": "Isaac",
                                    "LastName": "Asimov",
                                    "Stock": "14",
                                    "Title": "I, Robot"
                                },
                                {
                                    "FirstName": "Stephen",
                                    "LastName": "King",
                                    "Stock": "6",
                                    "Title": "The Shining"
                                },
                                {
                                    "FirstName": "Stephen",
                                    "LastName": "King",
                                    "Stock": "5",
                                    "Title": "It"
                                }
                            ],
                            "schema": {
                                "fields": [
                                    {
                                        "name": "Title"
                                    },
                                    {
                                        "name": "FirstName"
                                    },
                                    {
                                        "name": "LastName"
                                    },
                                    {
                                        "name": "Stock"
                                    }
                                ]
                            }
                        },
                        "text/html": [
                            "<table><tr><th>Title</th><th>FirstName</th><th>LastName</th><th>Stock</th></tr><tr><td>Harry Potter</td><td>J.K.</td><td>Rowling</td><td>10</td></tr><tr><td>1984</td><td>George</td><td>Orwell</td><td>5</td></tr><tr><td>The Hobbit</td><td>J.R.R.</td><td>Tolkien</td><td>4</td></tr><tr><td>Murder on the Orient Express</td><td>Agatha</td><td>Christie</td><td>7</td></tr><tr><td>And Then There Were None</td><td>Agatha</td><td>Christie</td><td>10</td></tr><tr><td>Foundation</td><td>Isaac</td><td>Asimov</td><td>12</td></tr><tr><td>I, Robot</td><td>Isaac</td><td>Asimov</td><td>14</td></tr><tr><td>The Shining</td><td>Stephen</td><td>King</td><td>6</td></tr><tr><td>It</td><td>Stephen</td><td>King</td><td>5</td></tr></table>"
                        ]
                    },
                    "execution_count": 39,
                    "metadata": {},
                    "output_type": "execute_result"
                }
            ],
            "source": [
                "--Check current inventory counts\n",
                "SELECT B.Title, \n",
                "A.FirstName, \n",
                "A.LastName, \n",
                "B.Stock\n",
                "FROM \n",
                "    Books B\n",
                "JOIN\n",
                "    Authors A\n",
                "ON \n",
                "    B.AuthorID = A.AuthorID\n"
            ]
        }
    ],
    "metadata": {
        "kernelspec": {
            "display_name": "SQL",
            "language": "sql",
            "name": "SQL"
        },
        "language_info": {
            "name": "sql",
            "version": ""
        }
    },
    "nbformat": 4,
    "nbformat_minor": 2
}
